{
  "nbformat": 4,
  "nbformat_minor": 0,
  "metadata": {
    "colab": {
      "provenance": []
    },
    "kernelspec": {
      "name": "python3",
      "display_name": "Python 3"
    },
    "language_info": {
      "name": "python"
    }
  },
  "cells": [
    {
      "cell_type": "code",
      "execution_count": 5,
      "metadata": {
        "colab": {
          "base_uri": "https://localhost:8080/"
        },
        "id": "791xiIhW2MCi",
        "outputId": "6cf96032-54ce-4f92-969e-49b1bbdf3cf2"
      },
      "outputs": [
        {
          "output_type": "stream",
          "name": "stdout",
          "text": [
            "Accuracy of the K-NN Classifier: 93.00%\n"
          ]
        }
      ],
      "source": [
        "import pandas as pd\n",
        "import numpy as np\n",
        "from sklearn.model_selection import train_test_split\n",
        "from sklearn.preprocessing import MinMaxScaler\n",
        "from collections import Counter\n",
        "\n",
        "# Load the dataset\n",
        "data = pd.read_csv(\"Graduate.csv\")\n",
        "\n",
        "# Preprocess the dataset\n",
        "# Normalize the features and handle missing values if required\n",
        "scaler = MinMaxScaler()\n",
        "features = data.iloc[:, :-1].values  # Assuming the last column is the target\n",
        "target = data.iloc[:, -1].values     # Target variable: Admission Chances\n",
        "features_normalized = scaler.fit_transform(features)\n",
        "\n",
        "# Split into training and testing sets\n",
        "X_train, X_test, y_train, y_test = train_test_split(features_normalized, target, test_size=0.2, random_state=42)\n",
        "\n",
        "# Define the custom KNN function\n",
        "def knn_predict(X_train, y_train, X_test, k):\n",
        "    predictions = []\n",
        "    for test_sample in X_test:\n",
        "        # Compute distances between test_sample and all training samples\n",
        "        distances = np.linalg.norm(X_train - test_sample, axis=1)\n",
        "        # Get the indices of the k-nearest neighbors\n",
        "        k_indices = distances.argsort()[:k]\n",
        "        # Get the labels of the k-nearest neighbors\n",
        "        k_labels = y_train[k_indices]\n",
        "        # Predict the majority class\n",
        "        most_common = Counter(k_labels).most_common(1)[0][0]\n",
        "        predictions.append(most_common)\n",
        "    return np.array(predictions)\n",
        "\n",
        "# Predict with k=3\n",
        "k = 3\n",
        "y_pred = knn_predict(X_train, y_train, X_test, k)\n",
        "\n",
        "# Calculate accuracy\n",
        "accuracy = np.sum(y_pred == y_test) / len(y_test)\n",
        "print(f\"Accuracy of the K-NN Classifier: {accuracy * 100:.2f}%\")\n"
      ]
    },
    {
      "cell_type": "code",
      "source": [
        "import pandas as pd\n",
        "from sklearn.model_selection import train_test_split\n",
        "from sklearn.preprocessing import MinMaxScaler\n",
        "from sklearn.neighbors import KNeighborsClassifier\n",
        "from sklearn.metrics import accuracy_score\n",
        "\n",
        "# Load the dataset\n",
        "data = pd.read_csv(\"Graduate.csv\")\n",
        "\n",
        "# Preprocess the data\n",
        "scaler = MinMaxScaler()\n",
        "features = data.iloc[:, :-1].values  # Assuming the last column is the target\n",
        "target = data.iloc[:, -1].values     # Target variable: Admission Chances\n",
        "features_normalized = scaler.fit_transform(features)\n",
        "\n",
        "# Split into training and testing sets\n",
        "X_train, X_test, y_train, y_test = train_test_split(features_normalized, target, test_size=0.2, random_state=42)\n",
        "\n",
        "# Evaluate K-NN for different values of k and distance metrics\n",
        "k_values = [1, 3, 5, 7, 9]\n",
        "distance_metrics = ['euclidean', 'manhattan', 'minkowski']\n",
        "results = []\n",
        "\n",
        "for metric in distance_metrics:\n",
        "    for k in k_values:\n",
        "        # Initialize K-NN Classifier\n",
        "        knn = KNeighborsClassifier(n_neighbors=k, metric=metric)\n",
        "        knn.fit(X_train, y_train)  # Train the model\n",
        "        y_pred = knn.predict(X_test)  # Predict on test data\n",
        "\n",
        "        # Calculate accuracy\n",
        "        accuracy = accuracy_score(y_test, y_pred)\n",
        "        results.append((k, metric, accuracy))\n",
        "\n",
        "# Display the results\n",
        "print(\"K-NN Accuracy Results:\")\n",
        "for k, metric, accuracy in results:\n",
        "    print(f\"k = {k}, Metric = {metric}, Accuracy = {accuracy * 100:.2f}%\")\n"
      ],
      "metadata": {
        "colab": {
          "base_uri": "https://localhost:8080/"
        },
        "id": "t8538pvq3EII",
        "outputId": "5d6d6255-876b-42e6-f64d-2d3d5e6bc86b"
      },
      "execution_count": 6,
      "outputs": [
        {
          "output_type": "stream",
          "name": "stdout",
          "text": [
            "K-NN Accuracy Results:\n",
            "k = 1, Metric = euclidean, Accuracy = 93.00%\n",
            "k = 3, Metric = euclidean, Accuracy = 93.00%\n",
            "k = 5, Metric = euclidean, Accuracy = 91.00%\n",
            "k = 7, Metric = euclidean, Accuracy = 90.00%\n",
            "k = 9, Metric = euclidean, Accuracy = 91.00%\n",
            "k = 1, Metric = manhattan, Accuracy = 92.00%\n",
            "k = 3, Metric = manhattan, Accuracy = 91.00%\n",
            "k = 5, Metric = manhattan, Accuracy = 91.00%\n",
            "k = 7, Metric = manhattan, Accuracy = 91.00%\n",
            "k = 9, Metric = manhattan, Accuracy = 91.00%\n",
            "k = 1, Metric = minkowski, Accuracy = 93.00%\n",
            "k = 3, Metric = minkowski, Accuracy = 93.00%\n",
            "k = 5, Metric = minkowski, Accuracy = 91.00%\n",
            "k = 7, Metric = minkowski, Accuracy = 90.00%\n",
            "k = 9, Metric = minkowski, Accuracy = 91.00%\n"
          ]
        }
      ]
    },
    {
      "cell_type": "code",
      "source": [
        "import pandas as pd\n",
        "from sklearn.model_selection import train_test_split\n",
        "from sklearn.preprocessing import MinMaxScaler\n",
        "from sklearn.neighbors import KNeighborsClassifier\n",
        "from sklearn.metrics import accuracy_score\n",
        "\n",
        "# Load the dataset\n",
        "data = pd.read_csv(\"Graduate.csv\")\n",
        "\n",
        "# Normalize the dataset using MinMaxScaler\n",
        "scaler = MinMaxScaler()\n",
        "features = data.iloc[:, :-1].values  # Assuming the last column is the target\n",
        "target = data.iloc[:, -1].values     # Target variable: Admission Chances\n",
        "features_normalized = scaler.fit_transform(features)\n",
        "\n",
        "# Split the data into training and testing sets\n",
        "X_train, X_test, y_train, y_test = train_test_split(features_normalized, target, test_size=0.2, random_state=42)\n",
        "\n",
        "# Apply K-NN Classifier with k=3 (you can experiment with different values of k)\n",
        "knn = KNeighborsClassifier(n_neighbors=3)  # Default metric is 'minkowski' with p=2 (Euclidean distance)\n",
        "knn.fit(X_train, y_train)\n",
        "\n",
        "# Make predictions\n",
        "y_pred = knn.predict(X_test)\n",
        "\n",
        "# Calculate accuracy\n",
        "accuracy = accuracy_score(y_test, y_pred)\n",
        "print(f\"Accuracy of the K-NN Classifier after Normalization: {accuracy * 100:.2f}%\")\n"
      ],
      "metadata": {
        "colab": {
          "base_uri": "https://localhost:8080/"
        },
        "id": "NQlqLL9j3b0O",
        "outputId": "612ec2e1-9576-4764-8b38-c2f7596f860a"
      },
      "execution_count": 7,
      "outputs": [
        {
          "output_type": "stream",
          "name": "stdout",
          "text": [
            "Accuracy of the K-NN Classifier after Normalization: 93.00%\n"
          ]
        }
      ]
    }
  ]
}